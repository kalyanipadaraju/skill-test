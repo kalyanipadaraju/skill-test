{
 "cells": [
  {
   "cell_type": "code",
   "execution_count": 2,
   "metadata": {},
   "outputs": [
    {
     "name": "stdout",
     "output_type": "stream",
     "text": [
      "[[525, 837799]]\n"
     ]
    }
   ],
   "source": [
    "#Longest Collatz sequence\n",
    "def sequence (n):\n",
    "    chaincount = 1\n",
    "    n1 = n\n",
    "    while n1 != 1:\n",
    "        if (n1 % 2 == 0):\n",
    "            n1 = n1/2\n",
    "            chaincount += 1\n",
    "        else:\n",
    "            n1 = (3*n1) + 1\n",
    "            chaincount += 1\n",
    "            \n",
    "    return [chaincount, n]\n",
    "\n",
    "sequenceList = [] # empty list\n",
    "for i in range(2, 1000000):\n",
    "    sequenceList.append(sequence(i))\n",
    "sortedList = sorted(sequenceList, reverse=True)\n",
    "print(sortedList[:1])"
   ]
  },
  {
   "cell_type": "code",
   "execution_count": null,
   "metadata": {},
   "outputs": [],
   "source": []
  },
  {
   "cell_type": "code",
   "execution_count": null,
   "metadata": {},
   "outputs": [],
   "source": []
  }
 ],
 "metadata": {
  "kernelspec": {
   "display_name": "Python 3",
   "language": "python",
   "name": "python3"
  },
  "language_info": {
   "codemirror_mode": {
    "name": "ipython",
    "version": 3
   },
   "file_extension": ".py",
   "mimetype": "text/x-python",
   "name": "python",
   "nbconvert_exporter": "python",
   "pygments_lexer": "ipython3",
   "version": "3.7.6"
  }
 },
 "nbformat": 4,
 "nbformat_minor": 4
}
