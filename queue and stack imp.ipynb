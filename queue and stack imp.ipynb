{
 "cells": [
  {
   "cell_type": "markdown",
   "metadata": {},
   "source": [
    "# Stack implementation using List (Last in first out)\n"
   ]
  },
  {
   "cell_type": "code",
   "execution_count": null,
   "metadata": {},
   "outputs": [],
   "source": [
    "# Stack is a data struture, which holds ordered similar data type values. In stack values are entered from one end and removed from same end(last in first out)"
   ]
  },
  {
   "cell_type": "code",
   "execution_count": 6,
   "metadata": {},
   "outputs": [
    {
     "name": "stdout",
     "output_type": "stream",
     "text": [
      "list of values are\n",
      "['k', 'a', 'l', 'y']\n"
     ]
    }
   ],
   "source": [
    "stack_1 = [] # creating empty list\n",
    "stack_1.append('k') # append function is used to add the values into the list \n",
    "stack_1.append('a')\n",
    "stack_1.append('l')\n",
    "stack_1.append('y')\n",
    "print(\"list of values are\")\n",
    "print(stack_1)"
   ]
  },
  {
   "cell_type": "code",
   "execution_count": null,
   "metadata": {},
   "outputs": [],
   "source": [
    "# The characters that are entred last are poped out first ( lIFO)"
   ]
  },
  {
   "cell_type": "code",
   "execution_count": 7,
   "metadata": {},
   "outputs": [
    {
     "name": "stdout",
     "output_type": "stream",
     "text": [
      "y\n",
      "l\n",
      "a\n",
      "k\n"
     ]
    }
   ],
   "source": [
    "#removing elements from the list using pop function\n",
    "print(stack_1.pop())\n",
    "print(stack_1.pop())\n",
    "print(stack_1.pop())\n",
    "print(stack_1.pop())"
   ]
  },
  {
   "cell_type": "code",
   "execution_count": 8,
   "metadata": {},
   "outputs": [
    {
     "name": "stdout",
     "output_type": "stream",
     "text": [
      "[]\n"
     ]
    }
   ],
   "source": [
    "print(stack_1)"
   ]
  },
  {
   "cell_type": "markdown",
   "metadata": {},
   "source": [
    "# Implementing queue using List (First in first out)\n",
    "In queue the elements inserted from one side will be poped out from other side"
   ]
  },
  {
   "cell_type": "code",
   "execution_count": 13,
   "metadata": {},
   "outputs": [
    {
     "name": "stdout",
     "output_type": "stream",
     "text": [
      "[100, 5, 200, 300, 10, 1000]\n"
     ]
    }
   ],
   "source": [
    "queue = [100,5,200,300]\n",
    "queue.append(10)\n",
    "queue.append(1000)\n",
    "print(queue)"
   ]
  },
  {
   "cell_type": "code",
   "execution_count": 14,
   "metadata": {},
   "outputs": [
    {
     "name": "stdout",
     "output_type": "stream",
     "text": [
      "100\n",
      "[5, 200, 300, 10, 1000]\n"
     ]
    }
   ],
   "source": [
    "print(queue.pop(0)) # removing the first element \n",
    "print(queue)\n"
   ]
  },
  {
   "cell_type": "code",
   "execution_count": 15,
   "metadata": {},
   "outputs": [
    {
     "name": "stdout",
     "output_type": "stream",
     "text": [
      "5\n",
      "[200, 300, 10, 1000]\n"
     ]
    }
   ],
   "source": [
    "print(queue.pop(0))# removes the first element\n",
    "print(queue)"
   ]
  },
  {
   "cell_type": "code",
   "execution_count": 16,
   "metadata": {},
   "outputs": [
    {
     "name": "stdout",
     "output_type": "stream",
     "text": [
      "200\n",
      "[300, 10, 1000]\n"
     ]
    }
   ],
   "source": [
    "print(queue.pop(0))# removes the first element\n",
    "print(queue)"
   ]
  },
  {
   "cell_type": "code",
   "execution_count": 17,
   "metadata": {},
   "outputs": [
    {
     "name": "stdout",
     "output_type": "stream",
     "text": [
      "300\n",
      "[10, 1000]\n"
     ]
    }
   ],
   "source": [
    "print(queue.pop(0))# removes the first element\n",
    "print(queue)"
   ]
  },
  {
   "cell_type": "code",
   "execution_count": null,
   "metadata": {},
   "outputs": [],
   "source": []
  }
 ],
 "metadata": {
  "kernelspec": {
   "display_name": "Python 3",
   "language": "python",
   "name": "python3"
  },
  "language_info": {
   "codemirror_mode": {
    "name": "ipython",
    "version": 3
   },
   "file_extension": ".py",
   "mimetype": "text/x-python",
   "name": "python",
   "nbconvert_exporter": "python",
   "pygments_lexer": "ipython3",
   "version": "3.7.6"
  }
 },
 "nbformat": 4,
 "nbformat_minor": 4
}
