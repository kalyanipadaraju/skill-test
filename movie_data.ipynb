{
 "cells": [
  {
   "cell_type": "code",
   "execution_count": 1,
   "metadata": {},
   "outputs": [],
   "source": [
    "import json\n",
    "import pandas as pd\n",
    "from pathlib import Path"
   ]
  },
  {
   "cell_type": "code",
   "execution_count": 2,
   "metadata": {},
   "outputs": [],
   "source": [
    "# set path to file\n",
    "p = Path(\"C:/Users/krishna/Downloads/got.json\")"
   ]
  },
  {
   "cell_type": "code",
   "execution_count": 3,
   "metadata": {},
   "outputs": [],
   "source": [
    "#!pip install --user pandas==1.0.3\n",
    "#import pandas as pd\n",
    "#pd.__version__"
   ]
  },
  {
   "cell_type": "code",
   "execution_count": 4,
   "metadata": {},
   "outputs": [],
   "source": [
    "# read json\n",
    "with p.open('r', encoding='utf-8') as f:\n",
    "    data = json.loads(f.read())\n",
    "\n",
    "# create dataframe\n",
    "df = pd.json_normalize(data)"
   ]
  },
  {
   "cell_type": "code",
   "execution_count": 5,
   "metadata": {},
   "outputs": [],
   "source": [
    "# save to csv\n",
    "df.to_csv('test.csv', index=False, encoding='utf-8')"
   ]
  },
  {
   "cell_type": "code",
   "execution_count": 6,
   "metadata": {},
   "outputs": [],
   "source": [
    "sample = pd.read_csv('test.csv')"
   ]
  },
  {
   "cell_type": "code",
   "execution_count": 7,
   "metadata": {},
   "outputs": [
    {
     "data": {
      "text/html": [
       "<div>\n",
       "<style scoped>\n",
       "    .dataframe tbody tr th:only-of-type {\n",
       "        vertical-align: middle;\n",
       "    }\n",
       "\n",
       "    .dataframe tbody tr th {\n",
       "        vertical-align: top;\n",
       "    }\n",
       "\n",
       "    .dataframe thead th {\n",
       "        text-align: right;\n",
       "    }\n",
       "</style>\n",
       "<table border=\"1\" class=\"dataframe\">\n",
       "  <thead>\n",
       "    <tr style=\"text-align: right;\">\n",
       "      <th></th>\n",
       "      <th>id</th>\n",
       "      <th>url</th>\n",
       "      <th>name</th>\n",
       "      <th>type</th>\n",
       "      <th>language</th>\n",
       "      <th>genres</th>\n",
       "      <th>status</th>\n",
       "      <th>runtime</th>\n",
       "      <th>premiered</th>\n",
       "      <th>weight</th>\n",
       "      <th>...</th>\n",
       "      <th>network.country.timezone</th>\n",
       "      <th>externals.tvrage</th>\n",
       "      <th>externals.thetvdb</th>\n",
       "      <th>externals.imdb</th>\n",
       "      <th>image.medium</th>\n",
       "      <th>image.original</th>\n",
       "      <th>_links.self.href</th>\n",
       "      <th>_links.previousepisode.href</th>\n",
       "      <th>_links.nextepisode.href</th>\n",
       "      <th>_embedded.episodes</th>\n",
       "    </tr>\n",
       "  </thead>\n",
       "  <tbody>\n",
       "    <tr>\n",
       "      <th>0</th>\n",
       "      <td>82</td>\n",
       "      <td>http://www.tvmaze.com/shows/82/game-of-thrones</td>\n",
       "      <td>Game of Thrones</td>\n",
       "      <td>Scripted</td>\n",
       "      <td>English</td>\n",
       "      <td>['Drama', 'Adventure', 'Fantasy']</td>\n",
       "      <td>Running</td>\n",
       "      <td>60</td>\n",
       "      <td>2011-04-17</td>\n",
       "      <td>16</td>\n",
       "      <td>...</td>\n",
       "      <td>America/New_York</td>\n",
       "      <td>24493</td>\n",
       "      <td>121361</td>\n",
       "      <td>tt0944947</td>\n",
       "      <td>http://static.tvmaze.com/uploads/images/medium...</td>\n",
       "      <td>http://static.tvmaze.com/uploads/images/origin...</td>\n",
       "      <td>http://api.tvmaze.com/shows/82</td>\n",
       "      <td>http://api.tvmaze.com/episodes/729575</td>\n",
       "      <td>http://api.tvmaze.com/episodes/937256</td>\n",
       "      <td>[{'id': 4952, 'url': 'http://www.tvmaze.com/ep...</td>\n",
       "    </tr>\n",
       "  </tbody>\n",
       "</table>\n",
       "<p>1 rows × 30 columns</p>\n",
       "</div>"
      ],
      "text/plain": [
       "   id                                             url             name  \\\n",
       "0  82  http://www.tvmaze.com/shows/82/game-of-thrones  Game of Thrones   \n",
       "\n",
       "       type language                             genres   status  runtime  \\\n",
       "0  Scripted  English  ['Drama', 'Adventure', 'Fantasy']  Running       60   \n",
       "\n",
       "    premiered  weight  ...  network.country.timezone externals.tvrage  \\\n",
       "0  2011-04-17      16  ...          America/New_York            24493   \n",
       "\n",
       "   externals.thetvdb externals.imdb  \\\n",
       "0             121361      tt0944947   \n",
       "\n",
       "                                        image.medium  \\\n",
       "0  http://static.tvmaze.com/uploads/images/medium...   \n",
       "\n",
       "                                      image.original  \\\n",
       "0  http://static.tvmaze.com/uploads/images/origin...   \n",
       "\n",
       "                 _links.self.href            _links.previousepisode.href  \\\n",
       "0  http://api.tvmaze.com/shows/82  http://api.tvmaze.com/episodes/729575   \n",
       "\n",
       "                 _links.nextepisode.href  \\\n",
       "0  http://api.tvmaze.com/episodes/937256   \n",
       "\n",
       "                                  _embedded.episodes  \n",
       "0  [{'id': 4952, 'url': 'http://www.tvmaze.com/ep...  \n",
       "\n",
       "[1 rows x 30 columns]"
      ]
     },
     "execution_count": 7,
     "metadata": {},
     "output_type": "execute_result"
    }
   ],
   "source": [
    "sample.head(5)"
   ]
  },
  {
   "cell_type": "code",
   "execution_count": null,
   "metadata": {},
   "outputs": [],
   "source": []
  }
 ],
 "metadata": {
  "kernelspec": {
   "display_name": "Python 3",
   "language": "python",
   "name": "python3"
  },
  "language_info": {
   "codemirror_mode": {
    "name": "ipython",
    "version": 3
   },
   "file_extension": ".py",
   "mimetype": "text/x-python",
   "name": "python",
   "nbconvert_exporter": "python",
   "pygments_lexer": "ipython3",
   "version": "3.7.6"
  }
 },
 "nbformat": 4,
 "nbformat_minor": 2
}
